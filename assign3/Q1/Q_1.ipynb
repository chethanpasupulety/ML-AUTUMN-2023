{
 "cells": [
  {
   "cell_type": "markdown",
   "metadata": {},
   "source": [
    "## Name: Pasupulety Chethan Krishna Venkat\n",
    "## Roll No.: 21CS30036"
   ]
  },
  {
   "cell_type": "markdown",
   "metadata": {},
   "source": [
    "### Part A: SVM Implementation"
   ]
  },
  {
   "cell_type": "markdown",
   "metadata": {},
   "source": [
    "#### Loading the dataset"
   ]
  },
  {
   "cell_type": "code",
   "execution_count": 2,
   "metadata": {},
   "outputs": [],
   "source": [
    "from ucimlrepo import fetch_ucirepo\n",
    "import pandas as pd\n",
    "\n",
    "from sklearn.metrics import accuracy_score, precision_score, recall_score, f1_score\n",
    "from sklearn.model_selection import train_test_split\n",
    "from sklearn.svm import SVC\n",
    "# fetch dataset\n",
    "spambase = fetch_ucirepo(id=94)\n",
    "# data (as pandas dataframes)\n",
    "X = spambase.data.features\n",
    "y = spambase.data.targets"
   ]
  },
  {
   "cell_type": "markdown",
   "metadata": {},
   "source": [
    "### Exploring the Dataset"
   ]
  },
  {
   "cell_type": "code",
   "execution_count": 3,
   "metadata": {},
   "outputs": [
    {
     "name": "stdout",
     "output_type": "stream",
     "text": [
      "{'uci_id': 94, 'name': 'Spambase', 'repository_url': 'https://archive.ics.uci.edu/dataset/94/spambase', 'data_url': 'https://archive.ics.uci.edu/static/public/94/data.csv', 'abstract': 'Classifying Email as Spam or Non-Spam', 'area': 'Computer Science', 'tasks': ['Classification'], 'characteristics': ['Multivariate'], 'num_instances': 4601, 'num_features': 57, 'feature_types': ['Integer', 'Real'], 'demographics': [], 'target_col': ['Class'], 'index_col': None, 'has_missing_values': 'no', 'missing_values_symbol': None, 'year_of_dataset_creation': 1999, 'last_updated': 'Mon Aug 28 2023', 'dataset_doi': '10.24432/C53G6X', 'creators': ['Mark Hopkins', 'Erik Reeber', 'George Forman', 'Jaap Suermondt'], 'intro_paper': None, 'additional_info': {'summary': 'The \"spam\" concept is diverse: advertisements for products/web sites, make money fast schemes, chain letters, pornography...\\n\\nThe classification task for this dataset is to determine whether a given email is spam or not.\\n\\t\\nOur collection of spam e-mails came from our postmaster and individuals who had filed spam.  Our collection of non-spam e-mails came from filed work and personal e-mails, and hence the word \\'george\\' and the area code \\'650\\' are indicators of non-spam.  These are useful when constructing a personalized spam filter.  One would either have to blind such non-spam indicators or get a very wide collection of non-spam to generate a general purpose spam filter.\\n\\nFor background on spam: Cranor, Lorrie F., LaMacchia, Brian A.  Spam!, Communications of the ACM, 41(8):74-83, 1998.\\n\\nTypical performance is around ~7% misclassification error. False positives (marking good mail as spam) are very undesirable.If we insist on zero false positives in the training/testing set, 20-25% of the spam passed through the filter. See also Hewlett-Packard Internal-only Technical Report. External version forthcoming. ', 'purpose': None, 'funded_by': None, 'instances_represent': 'Emails', 'recommended_data_splits': None, 'sensitive_data': None, 'preprocessing_description': None, 'variable_info': 'The last column of \\'spambase.data\\' denotes whether the e-mail was considered spam (1) or not (0), i.e. unsolicited commercial e-mail.  Most of the attributes indicate whether a particular word or character was frequently occuring in the e-mail.  The run-length attributes (55-57) measure the length of sequences of consecutive capital letters.  For the statistical measures of each attribute, see the end of this file.  Here are the definitions of the attributes:\\r\\n\\r\\n48 continuous real [0,100] attributes of type word_freq_WORD \\r\\n= percentage of words in the e-mail that match WORD, i.e. 100 * (number of times the WORD appears in the e-mail) / total number of words in e-mail.  A \"word\" in this case is any string of alphanumeric characters bounded by non-alphanumeric characters or end-of-string.\\r\\n\\r\\n6 continuous real [0,100] attributes of type char_freq_CHAR] \\r\\n= percentage of characters in the e-mail that match CHAR, i.e. 100 * (number of CHAR occurences) / total characters in e-mail\\r\\n\\r\\n1 continuous real [1,...] attribute of type capital_run_length_average \\r\\n= average length of uninterrupted sequences of capital letters\\r\\n\\r\\n1 continuous integer [1,...] attribute of type capital_run_length_longest \\r\\n= length of longest uninterrupted sequence of capital letters\\r\\n\\r\\n1 continuous integer [1,...] attribute of type capital_run_length_total \\r\\n= sum of length of uninterrupted sequences of capital letters \\r\\n= total number of capital letters in the e-mail\\r\\n\\r\\n1 nominal {0,1} class attribute of type spam\\r\\n= denotes whether the e-mail was considered spam (1) or not (0), i.e. unsolicited commercial e-mail.  \\r\\n', 'citation': None}}\n"
     ]
    }
   ],
   "source": [
    "# metadata\n",
    "print(spambase.metadata)\n",
    "# variable information\n",
    "# print(spambase.variables)\n",
    "\n",
    "\n",
    "# loading as dataframe\n",
    "X = spambase.data.features\n",
    "y = spambase.data.targets"
   ]
  },
  {
   "cell_type": "code",
   "execution_count": 4,
   "metadata": {},
   "outputs": [],
   "source": [
    "# Import Scikit learn\n",
    "from sklearn import datasets\n",
    "\n",
    "\n",
    "\n",
    "X_train, X_test, y_train, y_test = train_test_split(X, y,\n",
    "test_size=0.2, random_state=42)"
   ]
  },
  {
   "cell_type": "code",
   "execution_count": 5,
   "metadata": {},
   "outputs": [],
   "source": [
    "from sklearn.preprocessing import StandardScaler\n",
    "\n",
    "scaler = StandardScaler()\n",
    "X_train = scaler.fit_transform(X_train)\n",
    "X_test = scaler.transform(X_test)"
   ]
  },
  {
   "cell_type": "code",
   "execution_count": 6,
   "metadata": {},
   "outputs": [
    {
     "name": "stderr",
     "output_type": "stream",
     "text": [
      "c:\\Users\\cheth\\anaconda3\\envs\\data\\lib\\site-packages\\sklearn\\utils\\validation.py:1184: DataConversionWarning: A column-vector y was passed when a 1d array was expected. Please change the shape of y to (n_samples, ), for example using ravel().\n",
      "  y = column_or_1d(y, warn=True)\n"
     ]
    }
   ],
   "source": [
    "\n",
    "# Train SVM Model\n",
    "svm_model = SVC(kernel='linear')\n",
    "svm_model.fit(X_train, y_train)\n",
    "\n",
    "# Get predictions\n",
    "y_pred = svm_model.predict(X_test)"
   ]
  },
  {
   "cell_type": "code",
   "execution_count": 7,
   "metadata": {},
   "outputs": [
    {
     "name": "stdout",
     "output_type": "stream",
     "text": [
      "Accuracy: 0.9262\n",
      "Precision: 0.9265\n",
      "Recall: 0.9262\n",
      "F1-score: 0.9259\n"
     ]
    }
   ],
   "source": [
    "from sklearn.metrics import accuracy_score, precision_score, recall_score, f1_score, confusion_matrix\n",
    "import matplotlib.pyplot as plt\n",
    "\n",
    "# Function to calculate evaluation metrics\n",
    "def calculate_metrics(y_true, y_pred):\n",
    "    accuracy = accuracy_score(y_true, y_pred)\n",
    "    precision = precision_score(y_true, y_pred, average='weighted')\n",
    "    recall = recall_score(y_true, y_pred, average='weighted')\n",
    "    f1 = f1_score(y_true, y_pred, average='weighted')\n",
    "    return accuracy, precision, recall, f1\n",
    "\n",
    "# Calculate metrics for the SVM model\n",
    "accuracy, precision, recall, f1 = calculate_metrics(y_test, y_pred)\n",
    "print(f\"Accuracy: {accuracy:.4f}\")\n",
    "print(f\"Precision: {precision:.4f}\")\n",
    "print(f\"Recall: {recall:.4f}\")\n",
    "print(f\"F1-score: {f1:.4f}\")"
   ]
  },
  {
   "cell_type": "markdown",
   "metadata": {},
   "source": [
    "##### Regularisation: Regularisation is necessary to overcome overfitting. \n",
    "Varying the regularisation parameter of the SVM and tabularising. Using the following C values: [ 0.001, 0.1, 1, 10, 100 ]"
   ]
  },
  {
   "cell_type": "code",
   "execution_count": 8,
   "metadata": {},
   "outputs": [
    {
     "name": "stderr",
     "output_type": "stream",
     "text": [
      "c:\\Users\\cheth\\anaconda3\\envs\\data\\lib\\site-packages\\sklearn\\utils\\validation.py:1184: DataConversionWarning: A column-vector y was passed when a 1d array was expected. Please change the shape of y to (n_samples, ), for example using ravel().\n",
      "  y = column_or_1d(y, warn=True)\n",
      "c:\\Users\\cheth\\anaconda3\\envs\\data\\lib\\site-packages\\sklearn\\utils\\validation.py:1184: DataConversionWarning: A column-vector y was passed when a 1d array was expected. Please change the shape of y to (n_samples, ), for example using ravel().\n",
      "  y = column_or_1d(y, warn=True)\n",
      "c:\\Users\\cheth\\anaconda3\\envs\\data\\lib\\site-packages\\sklearn\\utils\\validation.py:1184: DataConversionWarning: A column-vector y was passed when a 1d array was expected. Please change the shape of y to (n_samples, ), for example using ravel().\n",
      "  y = column_or_1d(y, warn=True)\n",
      "c:\\Users\\cheth\\anaconda3\\envs\\data\\lib\\site-packages\\sklearn\\utils\\validation.py:1184: DataConversionWarning: A column-vector y was passed when a 1d array was expected. Please change the shape of y to (n_samples, ), for example using ravel().\n",
      "  y = column_or_1d(y, warn=True)\n",
      "c:\\Users\\cheth\\anaconda3\\envs\\data\\lib\\site-packages\\sklearn\\utils\\validation.py:1184: DataConversionWarning: A column-vector y was passed when a 1d array was expected. Please change the shape of y to (n_samples, ), for example using ravel().\n",
      "  y = column_or_1d(y, warn=True)\n"
     ]
    }
   ],
   "source": [
    "import numpy as np\n",
    "\n",
    "# Regularization parameter values\n",
    "C_values = [0.001, 0.1, 1, 10, 100]\n",
    "\n",
    "# Lists to store accuracy values for each regularization parameter\n",
    "accuracy_values = []\n",
    "\n",
    "# Lists to store mean and maximum coefficient values for each regularization parameter\n",
    "mean_coef_values = []\n",
    "max_coef_values = []\n",
    "\n",
    "# Loop through different regularization parameters\n",
    "for C in C_values:\n",
    "    # Train SVM Model with the current regularization parameter\n",
    "    svm_model = SVC(kernel='linear', C=C)\n",
    "    svm_model.fit(X_train, y_train)\n",
    "\n",
    "    # Get predictions on the test set\n",
    "    y_pred = svm_model.predict(X_test)\n",
    "\n",
    "    # Calculate accuracy and store it in the list\n",
    "    accuracy = accuracy_score(y_test, y_pred)\n",
    "    accuracy_values.append(accuracy)\n",
    "    \n",
    "    # Get the coefficients for each feature\n",
    "    coef = svm_model.coef_\n",
    "\n",
    "    # Calculate mean and maximum coefficient values and store them in the lists\n",
    "    mean_coef = np.mean(coef)\n",
    "    max_coef = np.max(np.abs(coef))\n",
    "    \n",
    "    mean_coef_values.append(mean_coef)\n",
    "    max_coef_values.append(max_coef)\n",
    "    "
   ]
  },
  {
   "cell_type": "code",
   "execution_count": 9,
   "metadata": {},
   "outputs": [
    {
     "name": "stdout",
     "output_type": "stream",
     "text": [
      "Regularization Parameter (C) | Accuracy\n",
      "----------------------------------------\n",
      "0.001                       | 0.8903\n",
      "0.1                         | 0.9207\n",
      "1                           | 0.9262\n",
      "10                          | 0.9229\n",
      "100                         | 0.9207\n"
     ]
    },
    {
     "data": {
      "image/png": "[encoded data removed]",
      "text/plain": [
       "<Figure size 640x480 with 1 Axes>"
      ]
     },
     "metadata": {},
     "output_type": "display_data"
    }
   ],
   "source": [
    "# Tabularize the results\n",
    "result_table = list(zip(C_values, accuracy_values))\n",
    "print(\"Regularization Parameter (C) | Accuracy\")\n",
    "print(\"----------------------------------------\")\n",
    "for result in result_table:\n",
    "    print(f\"{result[0]:<27} | {result[1]:.4f}\")\n",
    "\n",
    "# Plot the results\n",
    "plt.plot(np.log10(C_values), accuracy_values, marker='o')\n",
    "plt.xlabel('log10(Regularization Parameter C)')\n",
    "plt.ylabel('Accuracy')\n",
    "plt.title('Effect of Regularization on Accuracy')\n",
    "plt.show()\n",
    "    \n"
   ]
  },
  {
   "cell_type": "markdown",
   "metadata": {},
   "source": [
    "### Part B: Kernel Tricks"
   ]
  },
  {
   "cell_type": "markdown",
   "metadata": {},
   "source": [
    "##### The accuracy, precision, recall and F1 score on the test set for the following kernels : \n",
    "    1. Polynomial with degree 2\n",
    "    2. Polynomial with degree 3\n",
    "    3. Sigmoid\n",
    "    4. Radial Basis Function (RBF)"
   ]
  },
  {
   "cell_type": "code",
   "execution_count": 13,
   "metadata": {},
   "outputs": [
    {
     "name": "stderr",
     "output_type": "stream",
     "text": [
      "c:\\Users\\cheth\\anaconda3\\envs\\data\\lib\\site-packages\\sklearn\\utils\\validation.py:1184: DataConversionWarning: A column-vector y was passed when a 1d array was expected. Please change the shape of y to (n_samples, ), for example using ravel().\n",
      "  y = column_or_1d(y, warn=True)\n",
      "c:\\Users\\cheth\\anaconda3\\envs\\data\\lib\\site-packages\\sklearn\\utils\\validation.py:1184: DataConversionWarning: A column-vector y was passed when a 1d array was expected. Please change the shape of y to (n_samples, ), for example using ravel().\n",
      "  y = column_or_1d(y, warn=True)\n",
      "c:\\Users\\cheth\\anaconda3\\envs\\data\\lib\\site-packages\\sklearn\\utils\\validation.py:1184: DataConversionWarning: A column-vector y was passed when a 1d array was expected. Please change the shape of y to (n_samples, ), for example using ravel().\n",
      "  y = column_or_1d(y, warn=True)\n",
      "c:\\Users\\cheth\\anaconda3\\envs\\data\\lib\\site-packages\\sklearn\\utils\\validation.py:1184: DataConversionWarning: A column-vector y was passed when a 1d array was expected. Please change the shape of y to (n_samples, ), for example using ravel().\n",
      "  y = column_or_1d(y, warn=True)\n"
     ]
    }
   ],
   "source": [
    "from sklearn.metrics import accuracy_score, precision_score, recall_score, f1_score\n",
    "from sklearn.svm import SVC\n",
    "\n",
    "# Kernels to be used\n",
    "kernels = ['poly', 'poly', 'sigmoid', 'rbf']\n",
    "degrees = [2, 3, 1, 3]  # degrees for polynomial kernels\n",
    "\n",
    "# Lists to store evaluation metrics for each kernel\n",
    "accuracy_values = []\n",
    "precision_values = []\n",
    "recall_values = []\n",
    "f1_values = []\n",
    "\n",
    "for kernel, degree in zip(kernels, degrees):\n",
    "    # Train SVM Model with the current kernel\n",
    "    if kernel == 'poly':\n",
    "        svm_model = SVC(kernel=kernel, degree=degree, C=0.1)  # You can adjust C as needed\n",
    "    else:\n",
    "        svm_model = SVC(kernel=kernel, C=0.1)\n",
    "\n",
    "    svm_model.fit(X_train, y_train)\n",
    "\n",
    "    # Get predictions on the test set\n",
    "    y_pred = svm_model.predict(X_test)\n",
    "\n",
    "    # Calculate evaluation metrics and store them in the lists\n",
    "    accuracy = accuracy_score(y_test, y_pred)\n",
    "    precision = precision_score(y_test, y_pred)\n",
    "    recall = recall_score(y_test, y_pred)\n",
    "    f1 = f1_score(y_test, y_pred)\n",
    "\n",
    "    accuracy_values.append(accuracy)\n",
    "    precision_values.append(precision)\n",
    "    recall_values.append(recall)\n",
    "    f1_values.append(f1)\n",
    "\n",
    "# Now you have accuracy, precision, recall, and F1 score for each kernel in the respective lists\n"
   ]
  },
  {
   "cell_type": "code",
   "execution_count": 14,
   "metadata": {},
   "outputs": [
    {
     "name": "stdout",
     "output_type": "stream",
     "text": [
      "Kernel: poly, Degree: 2\n",
      "Accuracy: 0.7242\n",
      "Precision: 0.9595\n",
      "Recall: 0.3641\n",
      "F1 Score: 0.5279\n",
      "\n",
      "\n",
      "Kernel: poly, Degree: 3\n",
      "Accuracy: 0.6916\n",
      "Precision: 0.9732\n",
      "Recall: 0.2795\n",
      "F1 Score: 0.4343\n",
      "\n",
      "\n",
      "Kernel: sigmoid\n",
      "Accuracy: 0.8914\n",
      "Precision: 0.9240\n",
      "Recall: 0.8103\n",
      "F1 Score: 0.8634\n",
      "\n",
      "\n",
      "Kernel: rbf\n",
      "Accuracy: 0.9012\n",
      "Precision: 0.9544\n",
      "Recall: 0.8051\n",
      "F1 Score: 0.8734\n",
      "\n",
      "\n"
     ]
    }
   ],
   "source": [
    "# Print the results\n",
    "for kernel, degree, accuracy, precision, recall, f1 in zip(kernels, degrees, accuracy_values, precision_values, recall_values, f1_values):\n",
    "    if kernel == 'poly':\n",
    "        print(f\"Kernel: {kernel}, Degree: {degree}\")\n",
    "    else:\n",
    "        print(f\"Kernel: {kernel}\")\n",
    "    print(f\"Accuracy: {accuracy:.4f}\")\n",
    "    print(f\"Precision: {precision:.4f}\")\n",
    "    print(f\"Recall: {recall:.4f}\")\n",
    "    print(f\"F1 Score: {f1:.4f}\")\n",
    "    print(\"\\n\")\n"
   ]
  },
  {
   "cell_type": "markdown",
   "metadata": {},
   "source": [
    "### Analysis:\n",
    "\n",
    "**Poly Kernel, Degree 2:**\n",
    "- Moderate accuracy, high precision, but low recall. The model might be overfitting due to higher complexity.\n",
    "\n",
    "**Poly Kernel, Degree 3:**\n",
    "- Similar to the Degree 2 case, but with slightly lower accuracy. Again, signs of overfitting.\n",
    "\n",
    "**Sigmoid Kernel:**\n",
    "- Good accuracy, precision, and recall. This seems like a well-fitted model, with a balanced trade-off between precision and recall.\n",
    "\n",
    "**RBF Kernel:**\n",
    "- High accuracy, precision, and recall. This also appears to be a good fit. RBF kernels are often versatile.\n",
    "\n",
    "In summary, the sigmoid and RBF kernels with Degree 1 seem to perform well, suggesting a good balance between precision and recall. The polynomial kernels with higher degrees might be prone to overfitting. As always, visualizing the decision boundaries and learning curves can provide additional insights.\n"
   ]
  },
  {
   "cell_type": "markdown",
   "metadata": {},
   "source": [
    "### Part C: Overfitting & Underfitting Analysis"
   ]
  },
  {
   "cell_type": "code",
   "execution_count": 16,
   "metadata": {},
   "outputs": [
    {
     "name": "stderr",
     "output_type": "stream",
     "text": [
      "c:\\Users\\cheth\\anaconda3\\envs\\data\\lib\\site-packages\\sklearn\\utils\\validation.py:1184: DataConversionWarning: A column-vector y was passed when a 1d array was expected. Please change the shape of y to (n_samples, ), for example using ravel().\n",
      "  y = column_or_1d(y, warn=True)\n"
     ]
    },
    {
     "name": "stdout",
     "output_type": "stream",
     "text": [
      "Degree: 1, Regularization Parameter: 0.01\n",
      "Train Accuracy: 0.8109\n",
      "Test Accuracy: 0.7937\n",
      "\n",
      "\n"
     ]
    },
    {
     "name": "stderr",
     "output_type": "stream",
     "text": [
      "c:\\Users\\cheth\\anaconda3\\envs\\data\\lib\\site-packages\\sklearn\\utils\\validation.py:1184: DataConversionWarning: A column-vector y was passed when a 1d array was expected. Please change the shape of y to (n_samples, ), for example using ravel().\n",
      "  y = column_or_1d(y, warn=True)\n"
     ]
    },
    {
     "name": "stdout",
     "output_type": "stream",
     "text": [
      "Degree: 1, Regularization Parameter: 100\n",
      "Train Accuracy: 0.9315\n",
      "Test Accuracy: 0.9273\n",
      "\n",
      "\n"
     ]
    },
    {
     "name": "stderr",
     "output_type": "stream",
     "text": [
      "c:\\Users\\cheth\\anaconda3\\envs\\data\\lib\\site-packages\\sklearn\\utils\\validation.py:1184: DataConversionWarning: A column-vector y was passed when a 1d array was expected. Please change the shape of y to (n_samples, ), for example using ravel().\n",
      "  y = column_or_1d(y, warn=True)\n"
     ]
    },
    {
     "name": "stdout",
     "output_type": "stream",
     "text": [
      "Degree: 3, Regularization Parameter: 0.01\n",
      "Train Accuracy: 0.6427\n",
      "Test Accuracy: 0.6102\n",
      "\n",
      "\n"
     ]
    },
    {
     "name": "stderr",
     "output_type": "stream",
     "text": [
      "c:\\Users\\cheth\\anaconda3\\envs\\data\\lib\\site-packages\\sklearn\\utils\\validation.py:1184: DataConversionWarning: A column-vector y was passed when a 1d array was expected. Please change the shape of y to (n_samples, ), for example using ravel().\n",
      "  y = column_or_1d(y, warn=True)\n"
     ]
    },
    {
     "name": "stdout",
     "output_type": "stream",
     "text": [
      "Degree: 3, Regularization Parameter: 100\n",
      "Train Accuracy: 0.9611\n",
      "Test Accuracy: 0.9218\n",
      "\n",
      "\n"
     ]
    },
    {
     "data": {
      "image/png": "[encoded data removed]",
      "text/plain": [
       "<Figure size 1000x600 with 1 Axes>"
      ]
     },
     "metadata": {},
     "output_type": "display_data"
    }
   ],
   "source": [
    "import matplotlib.pyplot as plt\n",
    "import numpy as np\n",
    "\n",
    "# Kernels to be used\n",
    "degrees = [1, 1, 3, 3]  # degrees for polynomial kernels\n",
    "regularization_c_values = [0.01, 100, 0.01, 100]\n",
    "\n",
    "# Lists to store accuracy values for train and test sets\n",
    "train_accuracy_values = []\n",
    "test_accuracy_values = []\n",
    "\n",
    "for degree, regularization_c in zip(degrees, regularization_c_values):\n",
    "\n",
    "    # Train SVM Model with the current kernel\n",
    "    svm_model = SVC(kernel='poly', degree=degree, C=regularization_c)\n",
    "\n",
    "    svm_model.fit(X_train, y_train)\n",
    "\n",
    "    # Get predictions on the train and test sets\n",
    "    y_train_pred = svm_model.predict(X_train)\n",
    "    y_test_pred = svm_model.predict(X_test)\n",
    "\n",
    "    # Calculate accuracy for train and test sets\n",
    "    train_accuracy = accuracy_score(y_train, y_train_pred)\n",
    "    test_accuracy = accuracy_score(y_test, y_test_pred)\n",
    "\n",
    "    train_accuracy_values.append(train_accuracy)\n",
    "    test_accuracy_values.append(test_accuracy)\n",
    "\n",
    "    # Print the results\n",
    "    print(f\"Degree: {degree}, Regularization Parameter: {regularization_c}\")\n",
    "    print(f\"Train Accuracy: {train_accuracy:.4f}\")\n",
    "    print(f\"Test Accuracy: {test_accuracy:.4f}\")\n",
    "    print(\"\\n\")\n",
    "\n",
    "# Plotting the results\n",
    "degrees_c_values = list(zip(degrees, regularization_c_values))\n",
    "x_ticks = np.arange(len(degrees_c_values))\n",
    "\n",
    "plt.figure(figsize=(10, 6))\n",
    "plt.bar(x_ticks - 0.2, train_accuracy_values, width=0.4, label='Train Accuracy')\n",
    "plt.bar(x_ticks + 0.2, test_accuracy_values, width=0.4, label='Test Accuracy')\n",
    "plt.xticks(x_ticks, [f\"({degree}, {reg_c})\" for degree, reg_c in degrees_c_values])\n",
    "plt.xlabel('Degree, Regularization Parameter (C)')\n",
    "plt.ylabel('Accuracy')\n",
    "plt.title('Train and Test Accuracy for Different Polynomial Degrees and Regularization Parameters')\n",
    "plt.legend()\n",
    "plt.tight_layout()\n",
    "plt.show()\n"
   ]
  },
  {
   "cell_type": "markdown",
   "metadata": {},
   "source": [
    "## Model Performance Analysis\n",
    "\n",
    "### Degree: 1, Regularization Parameter: 0.01\n",
    "\n",
    "- **Train Accuracy:** 0.8109\n",
    "- **Test Accuracy:** 0.7937\n",
    "\n",
    "This model exhibits a relatively balanced performance on both the train and test sets. There isn't a significant gap between train and test accuracy, indicating a normal fit.\n",
    "\n",
    "### Degree: 1, Regularization Parameter: 100\n",
    "\n",
    "- **Train Accuracy:** 0.9315\n",
    "- **Test Accuracy:** 0.9273\n",
    "\n",
    "The high accuracy on both train and test sets suggests a good fit. The model has learned the training data too well, leading to reduced generalization on unseen data.\n",
    "\n",
    "\n",
    "### Degree: 3, Regularization Parameter: 0.01\n",
    "\n",
    "- **Train Accuracy:** 0.6427\n",
    "- **Test Accuracy:** 0.6102\n",
    "\n",
    "The model shows poor performance on both train and test sets, indicating underfitting. The low accuracy on both sets suggests that the model is too simplistic to capture the underlying patterns in the data.\n",
    "\n",
    "### Degree: 3, Regularization Parameter: 100\n",
    "\n",
    "- **Train Accuracy:** 0.9611\n",
    "- **Test Accuracy:** 0.9218\n",
    "\n",
    "The high accuracy on the train set compared to the test set indicates potential overfitting. Also there is a  chance of overfitting since the train accuracy is significantly higher than the test accuracy. Further evaluation may be needed to confirm if this is the case.\n",
    "\n",
    "\n",
    "\n",
    "### Summary:\n",
    "\n",
    "**Underfitting Models:**\n",
    "\n",
    "- Degree 3, Regularization Parameter: 0.01 (Train Accuracy: 0.6427, Test Accuracy: 0.6102)\n",
    "\n",
    "**Normal Fit Models:**\n",
    "\n",
    "- Degree 1, Regularization Parameter: 0.01 (Train Accuracy: 0.8109, Test Accuracy: 0.7937)\n",
    "\n",
    "**Potential Overfitting Models:**\n",
    "\n",
    "- Degree 1, Regularization Parameter: 100 (Train Accuracy: 0.9315, Test Accuracy: 0.9273)\n",
    "- Degree 3, Regularization Parameter: 100 (Train Accuracy: 0.9611, Test Accuracy: 0.9218)\n",
    "\n"
   ]
  }
 ],
 "metadata": {
  "kernelspec": {
   "display_name": "Python 3 (ipykernel)",
   "language": "python",
   "name": "python3"
  },
  "language_info": {
   "codemirror_mode": {
    "name": "ipython",
    "version": 3
   },
   "file_extension": ".py",
   "mimetype": "text/x-python",
   "name": "python",
   "nbconvert_exporter": "python",
   "pygments_lexer": "ipython3",
   "version": "3.9.17"
  }
 },
 "nbformat": 4,
 "nbformat_minor": 2
}
